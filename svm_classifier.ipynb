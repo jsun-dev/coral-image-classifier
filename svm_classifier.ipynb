{
  "nbformat": 4,
  "nbformat_minor": 0,
  "metadata": {
    "colab": {
      "provenance": [],
      "collapsed_sections": []
    },
    "kernelspec": {
      "name": "python3",
      "display_name": "Python 3"
    },
    "language_info": {
      "name": "python"
    }
  },
  "cells": [
    {
      "cell_type": "markdown",
      "source": [
        "# Task 2: Coral Classification using Support Vector Machine\n",
        "This notebook trains a support vector machine to classify whether an image contains corals or not. The SVM is trained on HOG features (Histogram of Oriented Gradients) with the help of the scikit-learn library."
      ],
      "metadata": {
        "id": "KicMvYzkOkGo"
      }
    },
    {
      "cell_type": "markdown",
      "source": [
        "### Download Data\n",
        "The data is available for download through a public link. After downloading, unzip the folder to get access to the data."
      ],
      "metadata": {
        "id": "P45a5bXeQCdB"
      }
    },
    {
      "cell_type": "code",
      "execution_count": null,
      "metadata": {
        "id": "vbRH1KTrN0g9"
      },
      "outputs": [],
      "source": [
        "import gdown\n",
        "\n",
        "# Download training and validation set\n",
        "url = 'https://drive.google.com/uc?id=1Gdxb0R8ohGqI4yB4KufWYESl0wIc8r8o'\n",
        "output = 'Data_2022_assignment_COMP3007.zip'\n",
        "gdown.download(url, output)"
      ]
    },
    {
      "cell_type": "code",
      "source": [
        "!unzip {output} >/dev/null"
      ],
      "metadata": {
        "id": "VDig6LSrQHu6"
      },
      "execution_count": null,
      "outputs": []
    },
    {
      "cell_type": "code",
      "source": [
        "# Download testing set\n",
        "url = 'https://drive.google.com/uc?id=1vc5avjn2lRfnIDC2i7XOq22R70m6UTrH'\n",
        "output = 'Testing_Data_2022.zip'\n",
        "gdown.download(url, output)"
      ],
      "metadata": {
        "id": "cNtE9-Emn3iC"
      },
      "execution_count": null,
      "outputs": []
    },
    {
      "cell_type": "code",
      "source": [
        "!unzip {output} >/dev/null"
      ],
      "metadata": {
        "id": "FNtdTbr3n7S-"
      },
      "execution_count": null,
      "outputs": []
    },
    {
      "cell_type": "markdown",
      "source": [
        "### Define Directories\n",
        "To access the data, various directories need to be defined. The data directory contains two subdirectories that correspond to the training and validation set. The test data directory contains the testing set."
      ],
      "metadata": {
        "id": "jv9TsFr7QScs"
      }
    },
    {
      "cell_type": "code",
      "source": [
        "import os\n",
        "\n",
        "# Train and valid directories\n",
        "DATA_PATH = os.path.join('Data', 'coral image classification')\n",
        "TRAIN_PATH = os.path.join(DATA_PATH, 'train')\n",
        "VALID_PATH = os.path.join(DATA_PATH, 'val')\n",
        "\n",
        "# Test directory\n",
        "TEST_PATH = os.path.join('TestData', 'CoralImageClassification')"
      ],
      "metadata": {
        "id": "m0ULzXzaQaOH"
      },
      "execution_count": null,
      "outputs": []
    },
    {
      "cell_type": "markdown",
      "source": [
        "### HOG Features\n",
        "The scikit-learn library provides an implemention of the HOG feature descriptor. HOG features describe the structure of an image based on its gradients. The image is first divided into small cells, and for each cell, the gradient magnitude and angle of all pixels is collected into a histogram. Once all the histogram has been computed, the feature vector is created as the concatenation of normalized histograms.\n",
        "\n",
        "https://scikit-image.org/docs/stable/auto_examples/features_detection/plot_hog.html"
      ],
      "metadata": {
        "id": "ubAsskX8Qn1a"
      }
    },
    {
      "cell_type": "code",
      "source": [
        "import cv2\n",
        "import numpy as np\n",
        "from skimage.feature import hog\n",
        "\n",
        "# Get HOG features from a grayscaled image\n",
        "def get_hog_features(path, image_size=64):\n",
        "  img = cv2.imread(path)\n",
        "  gray = cv2.cvtColor(img, cv2.COLOR_RGB2GRAY)\n",
        "  gray = cv2.resize(gray, (image_size, image_size))\n",
        "  return hog(gray, orientations=9, pixels_per_cell=(8, 8), cells_per_block=(4, 4), visualize=True)"
      ],
      "metadata": {
        "id": "sQgBz6a5QsQW"
      },
      "execution_count": null,
      "outputs": []
    },
    {
      "cell_type": "markdown",
      "source": [
        "### Dataset\n",
        "This cell returns a dataset containing the HOG features of images and their labels. Two parameters can be defined: the image size and a shuffle modifier."
      ],
      "metadata": {
        "id": "8mSsxvfguckv"
      }
    },
    {
      "cell_type": "code",
      "source": [
        "import numpy as np\n",
        "from tqdm.notebook import tqdm\n",
        "\n",
        "# Get the HOG features and labels of the dataset\n",
        "def get_dataset(dataset_path, image_size=64, shuffle=False):\n",
        "  # Define empty lists to store the HOG features and labels\n",
        "  x, y = [], []\n",
        "\n",
        "  # Loop through each label\n",
        "  labels = sorted(os.listdir(dataset_path))\n",
        "  for i, label in enumerate(labels):\n",
        "    # Define path of the image\n",
        "    label_path = os.path.join(dataset_path, label)\n",
        "    image_paths = sorted(os.path.join(label_path, path) for path in os.listdir(label_path))\n",
        "\n",
        "    # Get the HOG features and label of the image\n",
        "    for path in tqdm(image_paths, desc='{} ({})'.format(label, dataset_path.split('/')[-1])):\n",
        "      hog = get_hog_features(path, image_size=image_size)[0]\n",
        "      x.append(hog)\n",
        "      y.append(i)\n",
        "  \n",
        "  # Convert the lists to numpy arrays\n",
        "  x, y = np.array(x), np.array(y)\n",
        "  p = np.random.permutation(len(x))\n",
        "\n",
        "  return (x[p], y[p]) if shuffle else (x, y)"
      ],
      "metadata": {
        "id": "_MN3zSpWRXz8"
      },
      "execution_count": null,
      "outputs": []
    },
    {
      "cell_type": "markdown",
      "source": [
        "### Image Size Hyperparameter\n",
        "While the SVM has its own set of hyperparameters, it has been found that the image size has the greatest influence on the accuracy of the SVM. A larger image size will return more descriptive HOG features. Although this leads to an increase in accuracy, a large image size will take more time and memory to compute.\n",
        "\n",
        "For this experiment, 4 image size has been chosen. A list to store the results of the accuracy is also defined."
      ],
      "metadata": {
        "id": "YMdyRqqPuf57"
      }
    },
    {
      "cell_type": "code",
      "source": [
        "image_sizes = [32, 64, 128, 256]\n",
        "accuracies = []"
      ],
      "metadata": {
        "id": "feuL9oalq12I"
      },
      "execution_count": null,
      "outputs": []
    },
    {
      "cell_type": "code",
      "source": [
        "x_train, y_train = get_dataset(TRAIN_PATH, image_size=image_sizes[3], shuffle=True)\n",
        "x_valid, y_valid = get_dataset(VALID_PATH, image_size=image_sizes[3], shuffle=False)"
      ],
      "metadata": {
        "id": "XEfCOQqBoxH_"
      },
      "execution_count": null,
      "outputs": []
    },
    {
      "cell_type": "markdown",
      "source": [
        "### Train the SVM\n",
        "This cell trains the SVM with the training set. After training, the SVM is saved to the local directory.\n",
        "\n",
        "https://scikit-learn.org/stable/modules/generated/sklearn.svm.SVC.html"
      ],
      "metadata": {
        "id": "Gi_cDlZpuidc"
      }
    },
    {
      "cell_type": "code",
      "source": [
        "from sklearn import svm\n",
        "from joblib import dump\n",
        "\n",
        "clf = svm.SVC(probability=True)\n",
        "clf.fit(x_train, y_train)\n",
        "\n",
        "dump(clf, 'svm_{}.joblib'.format(image_sizes[3]))"
      ],
      "metadata": {
        "id": "vGep4ysKVXKt"
      },
      "execution_count": null,
      "outputs": []
    },
    {
      "cell_type": "markdown",
      "source": [
        "### Evaluate the SVM on Valid Set\n",
        "This cell evaluates the SVM with the validation set. The accuracy score as well as classification report are shown."
      ],
      "metadata": {
        "id": "uM5lP6x7ukUO"
      }
    },
    {
      "cell_type": "code",
      "source": [
        "from sklearn.metrics import accuracy_score, classification_report\n",
        "\n",
        "y_pred = clf.predict(x_valid)\n",
        "accuracy = accuracy_score(y_valid, y_pred)\n",
        "accuracies.append(accuracy)\n",
        "\n",
        "print('Accuracy: {}\\n'.format(accuracy))\n",
        "print(classification_report(y_valid, y_pred, target_names=['No Coral', 'Coral']))"
      ],
      "metadata": {
        "id": "iUcaqniuWAGn"
      },
      "execution_count": null,
      "outputs": []
    },
    {
      "cell_type": "markdown",
      "source": [
        "### Plot Accuracies\n",
        "This cell plots the accuracy of the SVM with different image sizes. As shown here, a larger image size leads to a more accurate classifier."
      ],
      "metadata": {
        "id": "RNr3fxe6um7J"
      }
    },
    {
      "cell_type": "code",
      "source": [
        "accuracies"
      ],
      "metadata": {
        "id": "jj27pRZa2uWB"
      },
      "execution_count": null,
      "outputs": []
    },
    {
      "cell_type": "code",
      "source": [
        "import plotly.graph_objects as go\n",
        "\n",
        "fig = go.Figure()\n",
        "fig.add_trace(go.Bar(x=[str(x) for x in image_sizes], y=accuracies))\n",
        "fig.update_layout(\n",
        "    title='Accuracy of SVM with Different Image Sizes',\n",
        "    title_x=0.5,\n",
        "    xaxis_title='Image Size',\n",
        "    yaxis_title='Accuracy'\n",
        ")\n",
        "fig.show()"
      ],
      "metadata": {
        "id": "2M0kGoqvqTS1"
      },
      "execution_count": null,
      "outputs": []
    },
    {
      "cell_type": "markdown",
      "source": [
        "### Evaluate a Trained SVM on Test Set\n",
        "The following cells download an already trained SVM and evaluate it on the test set."
      ],
      "metadata": {
        "id": "oLYoHhTxp0gA"
      }
    },
    {
      "cell_type": "code",
      "source": [
        "import gdown\n",
        "\n",
        "url = 'https://drive.google.com/uc?id=1fY23h4Tbu7tGyivxt-DMbRt3H6Z45kXg'\n",
        "output = 'svm_256.joblib'\n",
        "gdown.download(url, output)"
      ],
      "metadata": {
        "id": "yD4ACYGrqH7R"
      },
      "execution_count": null,
      "outputs": []
    },
    {
      "cell_type": "code",
      "source": [
        "from joblib import load\n",
        "from sklearn.metrics import accuracy_score, classification_report\n",
        "\n",
        "x_test, y_test = get_dataset(TEST_PATH, image_size=256, shuffle=False)\n",
        "\n",
        "clf = load('svm_256.joblib')\n",
        "y_pred = clf.predict(x_test)\n",
        "accuracy = accuracy_score(y_test, y_pred)\n",
        "\n",
        "print('Accuracy: {}\\n'.format(accuracy))\n",
        "print(classification_report(y_test, y_pred, target_names=['No Coral', 'Coral']))"
      ],
      "metadata": {
        "id": "YPxsPUd2p2CD"
      },
      "execution_count": null,
      "outputs": []
    },
    {
      "cell_type": "markdown",
      "source": [
        "### Classify Single Image\n",
        "This cell classifies a single image. The true label and the prediction are both shown."
      ],
      "metadata": {
        "id": "V-SYmUX7uvo-"
      }
    },
    {
      "cell_type": "code",
      "source": [
        "from google.colab.patches import cv2_imshow\n",
        "\n",
        "labels = sorted(os.listdir(TEST_PATH))\n",
        "modified_labels = ['No Coral', 'Coral']\n",
        "true_label = modified_labels[0]\n",
        "\n",
        "# Get the image\n",
        "img_path = os.path.join(TEST_PATH, labels[0], '13-11-41-27_1.1421167342.57-top_right.png')\n",
        "hog = get_hog_features(img_path, image_size=256)[0]\n",
        "\n",
        "# Get the prediction\n",
        "img_preds = clf.predict_proba([hog])\n",
        "img_pred = modified_labels[np.argmax(img_preds)]\n",
        "img_pred_score = np.max(img_preds) * 100\n",
        "\n",
        "print('True: {}'.format(true_label))\n",
        "print('Pred: {} ({:.2f}%)'.format(img_pred, img_pred_score))\n",
        "\n",
        "img = cv2.imread(img_path)\n",
        "cv2_imshow(cv2.resize(img, (256, 256)))"
      ],
      "metadata": {
        "id": "ZYSledavbg8a"
      },
      "execution_count": null,
      "outputs": []
    }
  ]
}